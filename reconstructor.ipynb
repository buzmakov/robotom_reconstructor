{
 "cells": [
  {
   "cell_type": "code",
   "execution_count": null,
   "metadata": {
    "collapsed": false
   },
   "outputs": [],
   "source": [
    "%pylab inline"
   ]
  },
  {
   "cell_type": "code",
   "execution_count": null,
   "metadata": {
    "collapsed": true
   },
   "outputs": [],
   "source": [
    "import numpy as np\n",
    "import pylab as plt\n",
    "import h5py\n",
    "import astra\n",
    "import cv2\n",
    "import json\n",
    "from pprint import pprint"
   ]
  },
  {
   "cell_type": "code",
   "execution_count": null,
   "metadata": {
    "collapsed": true
   },
   "outputs": [],
   "source": [
    "data_file = './8b3c11c2-371c-48a6-85ad-972b33151b43.h5'"
   ]
  },
  {
   "cell_type": "code",
   "execution_count": null,
   "metadata": {
    "collapsed": false
   },
   "outputs": [],
   "source": [
    "with h5py.File(data_file,'r') as h5f:\n",
    "    empty_images_count = len(h5f['empty'])\n",
    "    empty_images = None\n",
    "    empty_file_number = 0\n",
    "    for k,v in h5f['empty'].iteritems():\n",
    "        if empty_images is None:\n",
    "            empty_images = np.zeros(shape=(empty_images_count, v.shape[0], v.shape[1]), dtype='float32')\n",
    "        attributes = json.loads(v.attrs.items()[0][1])[0]\n",
    "        exposure = attributes['frame']['image_data']['exposure']\n",
    "        empty_images[empty_file_number] = v.value.astype('float32') / exposure\n",
    "        empty_file_number = empty_file_number + 1\n",
    "    \n",
    "    dark_images_count = len(h5f['dark'])\n",
    "    dark_images = None\n",
    "    dark_file_number = 0\n",
    "    for k,v in h5f['dark'].iteritems():\n",
    "        if dark_images is None:\n",
    "            dark_images = np.zeros(shape=(dark_images_count, v.shape[0], v.shape[1]), dtype='float32')\n",
    "        \n",
    "        attributes = json.loads(v.attrs.items()[0][1])[0]\n",
    "        exposure = int(attributes['frame']['image_data']['exposure'])\n",
    "        dark_images[dark_file_number] = v.value.astype('float32') / exposure\n",
    "        dark_file_number = dark_file_number + 1"
   ]
  },
  {
   "cell_type": "code",
   "execution_count": null,
   "metadata": {
    "collapsed": false
   },
   "outputs": [],
   "source": [
    "empty_image = empty_images.sum(axis=0)/len(empty_images)\n",
    "dark_image = dark_images.sum(axis=0)/len(empty_images)\n",
    "\n",
    "%xdel empty_images\n",
    "%xdel dark_images"
   ]
  },
  {
   "cell_type": "code",
   "execution_count": null,
   "metadata": {
    "collapsed": false
   },
   "outputs": [],
   "source": [
    "plt.figure(figsize=(10,10))\n",
    "plt.subplot(221)\n",
    "plt.imshow(empty_image, vmin=0)\n",
    "plt.colorbar(orientation='horizontal')\n",
    "\n",
    "plt.subplot(222)\n",
    "plt.imshow(dark_image, vmin=0)\n",
    "plt.colorbar(orientation='horizontal')\n",
    "\n",
    "empty_beam = empty_image-dark_image\n",
    "plt.subplot(223)\n",
    "plt.imshow(empty_beam, vmin=0)\n",
    "plt.colorbar(orientation='horizontal')\n",
    "\n",
    "mask = empty_beam > 0.005\n",
    "plt.subplot(224)\n",
    "plt.imshow(mask)\n",
    "plt.colorbar(orientation='horizontal')\n",
    "#TODO: Check thresshold automaticaly\n",
    "# plt.plot([sum(empty_beam > i) for i in np.arange(100)])"
   ]
  },
  {
   "cell_type": "code",
   "execution_count": null,
   "metadata": {
    "collapsed": false
   },
   "outputs": [],
   "source": [
    "x_range = np.arange(0,0.2,0.01)\n",
    "plt.plot(x_range, [sum(empty_beam > x).astype('float32')/np.prod(empty_beam.shape) for x in x_range])"
   ]
  },
  {
   "cell_type": "code",
   "execution_count": null,
   "metadata": {
    "collapsed": false
   },
   "outputs": [],
   "source": [
    "threshold = 100\n",
    "mask_x_profile = mask.sum(axis=1)\n",
    "mask_x_min = np.argwhere(mask_x_profile>threshold).min()+50\n",
    "mask_x_max = np.argwhere(mask_x_profile>threshold).max()-50\n",
    "print mask_x_min, mask_x_max\n",
    "\n",
    "mask_y_profile = mask.sum(axis=0)\n",
    "mask_y_min = np.argwhere(mask_y_profile>threshold).min()+50\n",
    "mask_y_max = np.argwhere(mask_y_profile>threshold).max()-50\n",
    "print mask_y_min, mask_y_max\n",
    "\n",
    "plt.imshow(mask[mask_x_min:mask_x_max,mask_y_min:mask_y_max])"
   ]
  },
  {
   "cell_type": "code",
   "execution_count": null,
   "metadata": {
    "collapsed": false
   },
   "outputs": [],
   "source": [
    "mask = mask[mask_x_min:mask_x_max,mask_y_min:mask_y_max]\n",
    "empty_beam = empty_beam[mask_x_min:mask_x_max,mask_y_min:mask_y_max]\n",
    "dark_image = dark_image[mask_x_min:mask_x_max,mask_y_min:mask_y_max]\n",
    "\n",
    "plt.imshow(empty_beam)\n",
    "plt.colorbar(orientation='horizontal')"
   ]
  },
  {
   "cell_type": "code",
   "execution_count": null,
   "metadata": {
    "collapsed": false
   },
   "outputs": [],
   "source": [
    "#TODO: добавить поддержку, когда много кадров на одном угле\n",
    "with h5py.File(data_file,'r') as h5f:\n",
    "    data_images_count = len(h5f['data'])\n",
    "    data_images = None\n",
    "    data_file_number = 0\n",
    "    data_angles = None\n",
    "    for k,v in h5f['data'].iteritems():\n",
    "        if data_images is None:\n",
    "            data_images = np.zeros(shape=(data_images_count,\n",
    "                                          mask_x_max-mask_x_min,\n",
    "                                          mask_y_max-mask_y_min),\n",
    "                                   dtype='float32')\n",
    "\n",
    "        if data_angles is None:\n",
    "            data_angles = np.zeros(shape=(data_images_count,), dtype='float32')\n",
    "\n",
    "        attributes = json.loads(v.attrs.items()[0][1])[0]\n",
    "        exposure = attributes['frame']['image_data']['exposure']\n",
    "        data_angles[data_file_number] = attributes['frame']['object']['angle position']\n",
    "        data_images[data_file_number] = v[mask_x_min:mask_x_max,mask_y_min:mask_y_max].astype('float32') / exposure\n",
    "\n",
    "        data_file_number = data_file_number + 1"
   ]
  },
  {
   "cell_type": "code",
   "execution_count": null,
   "metadata": {
    "collapsed": false
   },
   "outputs": [],
   "source": [
    "data_beam = data_images - dark_image\n",
    "data_beam[data_beam <= 0] = 1e-6\n",
    "empty_beam[empty_beam <= 0] = 1e-6\n",
    "%xdel data_images"
   ]
  },
  {
   "cell_type": "code",
   "execution_count": null,
   "metadata": {
    "collapsed": false
   },
   "outputs": [],
   "source": [
    "plt.figure(figsize=(10,10))\n",
    "plt.imshow(cv2.medianBlur(data_beam[5],3))\n",
    "plt.colorbar(orientation='horizontal')"
   ]
  },
  {
   "cell_type": "code",
   "execution_count": null,
   "metadata": {
    "collapsed": false
   },
   "outputs": [],
   "source": [
    "data_beam/=empty_beam"
   ]
  },
  {
   "cell_type": "code",
   "execution_count": null,
   "metadata": {
    "collapsed": false
   },
   "outputs": [],
   "source": [
    "data_beam*=mask\n",
    "data_beam[data_beam>1] = 1\n",
    "data_beam[data_beam<1e-5] = 1"
   ]
  },
  {
   "cell_type": "code",
   "execution_count": null,
   "metadata": {
    "collapsed": false
   },
   "outputs": [],
   "source": [
    "plt.figure(figsize=(10,10))\n",
    "plt.imshow(-np.log(data_beam[50]))\n",
    "plt.colorbar()"
   ]
  },
  {
   "cell_type": "code",
   "execution_count": null,
   "metadata": {
    "collapsed": true
   },
   "outputs": [],
   "source": []
  }
 ],
 "metadata": {
  "kernelspec": {
   "display_name": "Python 2",
   "language": "python",
   "name": "python2"
  },
  "language_info": {
   "codemirror_mode": {
    "name": "ipython",
    "version": 2
   },
   "file_extension": ".py",
   "mimetype": "text/x-python",
   "name": "python",
   "nbconvert_exporter": "python",
   "pygments_lexer": "ipython2",
   "version": "2.7.10"
  }
 },
 "nbformat": 4,
 "nbformat_minor": 0
}
